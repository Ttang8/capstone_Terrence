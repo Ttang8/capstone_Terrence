{
 "cells": [
  {
   "cell_type": "code",
   "execution_count": null,
   "metadata": {
    "id": "o7X1k0TiE5l7"
   },
   "outputs": [],
   "source": [
    "import numpy as np\n",
    "import pandas as pd\n",
    "import seaborn as sns\n",
    "import matplotlib.pyplot as plt\n",
    "import plotly.express as px\n",
    "from plotly.subplots import make_subplots\n",
    "import plotly.graph_objects as go\n",
    "\n",
    "from sklearn.model_selection import train_test_split, GridSearchCV\n",
    "from sklearn.preprocessing import StandardScaler, OneHotEncoder, LabelEncoder\n",
    "from sklearn.preprocessing import OrdinalEncoder\n",
    "# from category_encoders import TargetEncoder\n",
    "from sklearn.linear_model import LogisticRegression\n",
    "from sklearn.tree import DecisionTreeClassifier\n",
    "from sklearn.neighbors import KNeighborsClassifier\n",
    "from sklearn.svm import SVC\n",
    "from sklearn.pipeline import Pipeline\n",
    "from sklearn.compose import ColumnTransformer\n",
    "from sklearn.metrics import mean_squared_error\n",
    "from sklearn.metrics import accuracy_score, classification_report, confusion_matrix, ConfusionMatrixDisplay\n",
    "\n",
    "import datetime\n",
    "\n",
    "import joblib\n",
    "\n",
    "\n",
    "# from cap_modules import *\n",
    "\n",
    "pd.set_option('display.max_columns', None)"
   ]
  },
  {
   "cell_type": "code",
   "execution_count": null,
   "metadata": {
    "id": "kNoSYhhPE995"
   },
   "outputs": [],
   "source": [
    "df = pd.read_csv('data/fraudTrain.csv', sep = ',')"
   ]
  },
  {
   "cell_type": "code",
   "execution_count": null,
   "metadata": {
    "colab": {
     "base_uri": "https://localhost:8080/",
     "height": 521
    },
    "id": "7DsUu5MuFacj",
    "outputId": "26e108fa-39ae-4ef3-e307-2875630972a5"
   },
   "outputs": [],
   "source": [
    "df.head(5)"
   ]
  },
  {
   "cell_type": "code",
   "execution_count": null,
   "metadata": {
    "colab": {
     "base_uri": "https://localhost:8080/"
    },
    "id": "g7Rjgq1oFjqK",
    "outputId": "0ddd3951-3292-43db-c659-968cd1a87178"
   },
   "outputs": [],
   "source": [
    "df.info()"
   ]
  },
  {
   "cell_type": "code",
   "execution_count": null,
   "metadata": {
    "colab": {
     "base_uri": "https://localhost:8080/"
    },
    "id": "t5ts19p5FuAq",
    "outputId": "89756433-7ae4-48ff-dad2-7f332a47b26f"
   },
   "outputs": [],
   "source": [
    "df.columns"
   ]
  },
  {
   "cell_type": "code",
   "execution_count": null,
   "metadata": {
    "colab": {
     "base_uri": "https://localhost:8080/",
     "height": 805
    },
    "id": "bHxQCUgQMlKr",
    "outputId": "472a5d3b-23b6-4bef-e0a4-3d6394ea752c"
   },
   "outputs": [],
   "source": [
    "df.isna().sum()"
   ]
  },
  {
   "cell_type": "code",
   "execution_count": null,
   "metadata": {
    "colab": {
     "base_uri": "https://localhost:8080/"
    },
    "id": "tIakDEBZMsJE",
    "outputId": "8651737e-448f-439b-a8b9-b9b3c80a0824"
   },
   "outputs": [],
   "source": [
    "(df['is_fraud'].value_counts()[1] / df['is_fraud'].shape[0]) * 100"
   ]
  },
  {
   "cell_type": "markdown",
   "metadata": {
    "id": "tL23dQ1AysNw"
   },
   "source": [
    "0.5789 percent of the training set is fraud. It is a very imbalanced"
   ]
  },
  {
   "cell_type": "code",
   "execution_count": null,
   "metadata": {
    "colab": {
     "base_uri": "https://localhost:8080/",
     "height": 542
    },
    "id": "cJnyzJEZM2cu",
    "outputId": "deed6f20-9f80-47c3-8eb2-59d95fc57488"
   },
   "outputs": [],
   "source": [
    "px.histogram(df[df['is_fraud'] == 1], x=\"amt\", text_auto=True)"
   ]
  },
  {
   "cell_type": "code",
   "execution_count": null,
   "metadata": {
    "id": "6wgldBUTkmCy"
   },
   "outputs": [],
   "source": [
    "%load_ext autoreload\n",
    "%autoreload 2\n",
    "from cap_modules import count_plot\n",
    "from cap_modules import count_plot_multi"
   ]
  },
  {
   "cell_type": "code",
   "execution_count": null,
   "metadata": {
    "colab": {
     "base_uri": "https://localhost:8080/",
     "height": 542
    },
    "id": "oJLTdtt0Re1_",
    "outputId": "19d74e24-bd1c-483c-ad45-0b22259db486"
   },
   "outputs": [],
   "source": [
    "# count_plot(df[df['is_fraud'] == 0], 'category', 'Number of non fradulent transactions by Category')"
   ]
  },
  {
   "cell_type": "code",
   "execution_count": null,
   "metadata": {
    "colab": {
     "base_uri": "https://localhost:8080/",
     "height": 542
    },
    "id": "xlwwXi61P6d9",
    "outputId": "394c8373-de81-4453-bdf9-33ad4a6b5793"
   },
   "outputs": [],
   "source": [
    "count_plot(df[df['is_fraud'] == 1], 'category', 'Number of fradulent transactions by Category')"
   ]
  },
  {
   "cell_type": "code",
   "execution_count": null,
   "metadata": {
    "colab": {
     "base_uri": "https://localhost:8080/",
     "height": 542
    },
    "id": "leEnL5x0tbck",
    "outputId": "43d92cbd-1f26-4471-fa53-749823b25ac9"
   },
   "outputs": [],
   "source": [
    "px.histogram(df, x=\"category\", color=\"is_fraud\", histnorm='percent')"
   ]
  },
  {
   "cell_type": "code",
   "execution_count": null,
   "metadata": {
    "id": "Xy61bI6GWkYE"
   },
   "outputs": [],
   "source": [
    "# dataset_graph = [\n",
    "#     {\n",
    "#         'data': df[df['is_fraud'] == 0],\n",
    "#         'x': 'gender',\n",
    "#         'title': 'Number of non fradulent transactions by Gender'\n",
    "#     },\n",
    "#     {\n",
    "#         'data': df[df['is_fraud'] == 1],\n",
    "#         'x': 'gender',\n",
    "#         'title': 'Number of fradulent transactions by Gender'\n",
    "#     }\n",
    "# ]\n",
    "# count_plot_multi(dataset_graph, '', 2, 1)\n",
    "\n"
   ]
  },
  {
   "cell_type": "code",
   "execution_count": null,
   "metadata": {
    "colab": {
     "base_uri": "https://localhost:8080/",
     "height": 542
    },
    "id": "mVZa6oGVTdTT",
    "outputId": "f114ed09-fd23-4e73-a4ba-bbcacb7969b9"
   },
   "outputs": [],
   "source": [
    "# count_plot(df[df['is_fraud'] == 0], 'gender', 'Number of non fradulent transactions by Gender', False)"
   ]
  },
  {
   "cell_type": "code",
   "execution_count": null,
   "metadata": {
    "colab": {
     "base_uri": "https://localhost:8080/",
     "height": 542
    },
    "id": "KczN_w9JnRgC",
    "outputId": "41ab6b80-6401-4a27-ca30-88727e9c0193"
   },
   "outputs": [],
   "source": [
    "count_plot(df[df['is_fraud'] == 1], 'gender', 'Number of fradulent transactions by Gender', False)"
   ]
  },
  {
   "cell_type": "code",
   "execution_count": null,
   "metadata": {
    "id": "96jP6Up5vuNn"
   },
   "outputs": [],
   "source": []
  },
  {
   "cell_type": "markdown",
   "metadata": {
    "id": "5SgPBSu9vJUK"
   },
   "source": [
    "No significant differences in the proportion of fraud victims across genders. However, transaction volume differs notably between men and women. Women are involved in more transactions then men."
   ]
  },
  {
   "cell_type": "code",
   "execution_count": null,
   "metadata": {
    "id": "SYIg3ttAvvxZ"
   },
   "outputs": [],
   "source": [
    "df['trans_year'] = pd.Series(pd.to_datetime(df['trans_date_trans_time'])).dt.year"
   ]
  },
  {
   "cell_type": "code",
   "execution_count": null,
   "metadata": {
    "id": "9jXMsaC0wONG"
   },
   "outputs": [],
   "source": [
    "df['dob'] = pd.Series(pd.to_datetime(df['dob'])).dt.year"
   ]
  },
  {
   "cell_type": "code",
   "execution_count": null,
   "metadata": {
    "id": "14IwtFS-wfKK"
   },
   "outputs": [],
   "source": []
  },
  {
   "cell_type": "code",
   "execution_count": null,
   "metadata": {
    "id": "_8rBR0vGwjWX"
   },
   "outputs": [],
   "source": [
    "age = pd.Series(df['trans_year'] - df['dob'])\n",
    "df[\"age\"] = age"
   ]
  },
  {
   "cell_type": "code",
   "execution_count": null,
   "metadata": {
    "colab": {
     "base_uri": "https://localhost:8080/",
     "height": 521
    },
    "id": "WNER6fxlwwSb",
    "outputId": "5cbd8b84-74e9-4fd7-9cf2-19ed1499581e"
   },
   "outputs": [],
   "source": [
    "df.head()"
   ]
  },
  {
   "cell_type": "code",
   "execution_count": null,
   "metadata": {
    "id": "uOZTOVtTw0CF"
   },
   "outputs": [],
   "source": [
    "bins = [10, 18, 35, 60, 100]\n",
    "labels = [\"14-18\", \"18-35\", \"35-60\", \"60+\"]\n",
    "df['age_group'] = pd.cut(df['age'], bins=bins, labels=labels, right=True)"
   ]
  },
  {
   "cell_type": "code",
   "execution_count": null,
   "metadata": {
    "id": "RUVJ9GPVzfQS"
   },
   "outputs": [],
   "source": [
    "df.drop(axis=1, columns=[\"age\", \"dob\", \"trans_year\", \"trans_date_trans_time\"], inplace=True)"
   ]
  },
  {
   "cell_type": "markdown",
   "metadata": {
    "id": "EM1jAPIbvFNE"
   },
   "source": []
  },
  {
   "cell_type": "code",
   "execution_count": null,
   "metadata": {
    "colab": {
     "base_uri": "https://localhost:8080/",
     "height": 542
    },
    "id": "mseooH4NvCbT",
    "outputId": "cf486891-833a-4923-b703-0219844c3956"
   },
   "outputs": [],
   "source": [
    "count_plot(df[df['is_fraud'] == 1], 'age_group', 'Number of fradulent transactions by Age', False)"
   ]
  },
  {
   "cell_type": "code",
   "execution_count": null,
   "metadata": {
    "colab": {
     "base_uri": "https://localhost:8080/",
     "height": 542
    },
    "id": "CD_1lzbA0jnS",
    "outputId": "d5f06f1e-c415-4a39-88c5-bd1b487bdf12"
   },
   "outputs": [],
   "source": [
    "# count_plot(df[df['is_fraud'] == 0], 'age_group', 'Number of non fradulent transactions by Age', False)"
   ]
  },
  {
   "cell_type": "code",
   "execution_count": null,
   "metadata": {
    "colab": {
     "base_uri": "https://localhost:8080/",
     "height": 366
    },
    "id": "jYuP-VXE1FyF",
    "outputId": "13c2fa0c-6ccf-430f-b077-ea2c190f10d4"
   },
   "outputs": [],
   "source": [
    "df.groupby('is_fraud')['age_group'].value_counts() / df.groupby('is_fraud')['age_group'].count()"
   ]
  },
  {
   "cell_type": "code",
   "execution_count": null,
   "metadata": {
    "colab": {
     "base_uri": "https://localhost:8080/",
     "height": 366
    },
    "id": "zqGXMvbc3mhg",
    "outputId": "e2f726ab-6b0b-4d76-d35c-e80b06ee9971"
   },
   "outputs": [],
   "source": [
    "df.groupby('is_fraud')['age_group'].value_counts() / df['is_fraud'].shape[0]"
   ]
  },
  {
   "cell_type": "code",
   "execution_count": null,
   "metadata": {
    "colab": {
     "base_uri": "https://localhost:8080/",
     "height": 525
    },
    "id": "z2TNjs_s414v",
    "outputId": "0c6db519-a262-4dac-99da-c1859fd11613"
   },
   "outputs": [],
   "source": [
    "df.groupby('age_group')['is_fraud'].value_counts() / df.groupby('age_group')['is_fraud'].count()"
   ]
  },
  {
   "cell_type": "markdown",
   "metadata": {
    "id": "XEMp2Bzz6noW"
   },
   "source": [
    "The analysis indicates that teenagers are the least likely demographic to fall victim to credit card fraud. This trend is likely attributed to their limited access to credit cards compared to older age groups.\n",
    "\n",
    "Individuals in middle-age groups show a higher susceptibility to credit card fraud, as illustrated by the accompanying bar chart. This vulnerability may be explained by their increased frequency of credit card usage, which correlates with their financial activity and purchasing habits.\n",
    "\n",
    "Notably, the percentage of fraudulent transactions is highest among individuals aged 60 or older, at 0.75%. This elevated rate may stem from lower levels of digital literacy within this demographic, making them more vulnerable to fraudulent schemes."
   ]
  },
  {
   "cell_type": "code",
   "execution_count": null,
   "metadata": {
    "id": "wksQVV7d6k5V"
   },
   "outputs": [],
   "source": []
  },
  {
   "cell_type": "code",
   "execution_count": null,
   "metadata": {
    "colab": {
     "base_uri": "https://localhost:8080/",
     "height": 178
    },
    "id": "IGjxbtH02hn1",
    "outputId": "8d9de12e-d9c1-4edd-d94c-f9f4fa021582"
   },
   "outputs": [],
   "source": [
    "df.groupby('is_fraud')['age_group'].count()"
   ]
  },
  {
   "cell_type": "code",
   "execution_count": null,
   "metadata": {
    "id": "1BbA8IR40FXr"
   },
   "outputs": [],
   "source": [
    "# (df['is_fraud'].value_counts()[1] / df['is_fraud'].shape[0]) * 100"
   ]
  },
  {
   "cell_type": "code",
   "execution_count": null,
   "metadata": {
    "id": "MH1VOM_J13K2"
   },
   "outputs": [],
   "source": [
    "state_to_region = {\n",
    "    \"CT\": \"Northeast\", \"ME\": \"Northeast\", \"MA\": \"Northeast\", \"NH\": \"Northeast\",\n",
    "    \"RI\": \"Northeast\", \"VT\": \"Northeast\", \"NJ\": \"Northeast\", \"NY\": \"Northeast\",\n",
    "    \"PA\": \"Northeast\",\n",
    "    \"IL\": \"Midwest\", \"IN\": \"Midwest\", \"IA\": \"Midwest\", \"KS\": \"Midwest\",\n",
    "    \"MI\": \"Midwest\", \"MN\": \"Midwest\", \"MO\": \"Midwest\", \"NE\": \"Midwest\",\n",
    "    \"ND\": \"Midwest\", \"OH\": \"Midwest\", \"SD\": \"Midwest\", \"WI\": \"Midwest\",\n",
    "    \"AL\": \"South\", \"AR\": \"South\", \"DE\": \"South\", \"FL\": \"South\",\n",
    "    \"GA\": \"South\", \"KY\": \"South\", \"LA\": \"South\", \"MD\": \"South\",\n",
    "    \"MS\": \"South\", \"NC\": \"South\", \"OK\": \"South\", \"SC\": \"South\",\n",
    "    \"TN\": \"South\", \"TX\": \"South\", \"VA\": \"South\", \"WV\": \"South\",\n",
    "    \"AK\": \"West\", \"AZ\": \"West\", \"CA\": \"West\", \"CO\": \"West\",\n",
    "    \"HI\": \"West\", \"ID\": \"West\", \"MT\": \"West\", \"NV\": \"West\",\n",
    "    \"NM\": \"West\", \"OR\": \"West\", \"UT\": \"West\", \"WA\": \"West\",\n",
    "    \"WY\": \"West\"\n",
    "}"
   ]
  },
  {
   "cell_type": "code",
   "execution_count": null,
   "metadata": {
    "id": "Ub_njA-DAzVf"
   },
   "outputs": [],
   "source": []
  },
  {
   "cell_type": "code",
   "execution_count": null,
   "metadata": {
    "id": "KGHDtc2s6qyQ"
   },
   "outputs": [],
   "source": [
    "df[\"region\"] = df['state'].map(state_to_region)"
   ]
  },
  {
   "cell_type": "code",
   "execution_count": null,
   "metadata": {
    "colab": {
     "base_uri": "https://localhost:8080/",
     "height": 521
    },
    "id": "8m8NVETr7IV4",
    "outputId": "e6fdec2b-3602-4b0f-92f0-b76ae69ccf55"
   },
   "outputs": [],
   "source": [
    "df.head()"
   ]
  },
  {
   "cell_type": "code",
   "execution_count": null,
   "metadata": {
    "colab": {
     "base_uri": "https://localhost:8080/",
     "height": 542
    },
    "id": "M9KyBvYG67q9",
    "outputId": "313d36fa-05c9-40c7-8b62-aa921f42c65e"
   },
   "outputs": [],
   "source": [
    "# count_plot(df[df['is_fraud'] == 0], 'region', 'Number of non fradulent transactions by Region', True)"
   ]
  },
  {
   "cell_type": "code",
   "execution_count": null,
   "metadata": {
    "colab": {
     "base_uri": "https://localhost:8080/",
     "height": 542
    },
    "id": "9q2E9WaO7q5t",
    "outputId": "13f46a79-11b1-4a9b-b4a7-794910f4a5d9"
   },
   "outputs": [],
   "source": [
    "count_plot(df[df['is_fraud'] == 1], 'region', 'Number of fradulent transactions by Region', True)"
   ]
  },
  {
   "cell_type": "code",
   "execution_count": null,
   "metadata": {
    "colab": {
     "base_uri": "https://localhost:8080/",
     "height": 366
    },
    "id": "CQknwf7A71BC",
    "outputId": "d4ddb641-8af7-4430-d541-7c67864d89e5"
   },
   "outputs": [],
   "source": [
    "df.groupby('is_fraud')['region'].value_counts() / df['is_fraud'].shape[0]"
   ]
  },
  {
   "cell_type": "code",
   "execution_count": null,
   "metadata": {
    "colab": {
     "base_uri": "https://localhost:8080/",
     "height": 366
    },
    "id": "b9bgNz-s76Od",
    "outputId": "16a22c19-fae4-4b13-f273-e7f5813616be"
   },
   "outputs": [],
   "source": [
    "df.groupby('region')['is_fraud'].value_counts() / df.groupby('region')['is_fraud'].count()"
   ]
  },
  {
   "cell_type": "code",
   "execution_count": null,
   "metadata": {
    "id": "YOTW3tZQ8qJv"
   },
   "outputs": [],
   "source": [
    "cols_to_drop = [\"Unnamed: 0\", \"cc_num\", \"zip\", \"lat\", \"long\", \"city_pop\", \"unix_time\", \"merch_lat\", \"merch_long\", \"trans_num\", \"street\", \"first\", \"last\"]\n",
    "df.drop(axis=1, columns=cols_to_drop, inplace=True)\n"
   ]
  },
  {
   "cell_type": "code",
   "execution_count": null,
   "metadata": {
    "colab": {
     "base_uri": "https://localhost:8080/",
     "height": 206
    },
    "id": "ul5Mbtnl9AOm",
    "outputId": "e4e9d362-f63a-4074-a9f3-634fb87ad548"
   },
   "outputs": [],
   "source": [
    "df.head()"
   ]
  },
  {
   "cell_type": "code",
   "execution_count": null,
   "metadata": {
    "colab": {
     "base_uri": "https://localhost:8080/"
    },
    "id": "0QWrII749Odh",
    "outputId": "8426f6e2-f467-4ce7-f473-5ed53282a1da"
   },
   "outputs": [],
   "source": [
    "len(df['job'].unique())"
   ]
  },
  {
   "cell_type": "code",
   "execution_count": null,
   "metadata": {
    "colab": {
     "base_uri": "https://localhost:8080/"
    },
    "id": "KkTuCx3n9ZvW",
    "outputId": "cb198ba1-3f03-44bb-8500-5ebd474044e6"
   },
   "outputs": [],
   "source": [
    "len(df['merchant'].unique())"
   ]
  },
  {
   "cell_type": "code",
   "execution_count": null,
   "metadata": {
    "id": "rX2bCf5A9hoO"
   },
   "outputs": [],
   "source": [
    "df.drop(axis=1, columns=[\"job\", \"merchant\"], inplace=True)"
   ]
  },
  {
   "cell_type": "code",
   "execution_count": null,
   "metadata": {
    "id": "XV4pXqQ39lTu"
   },
   "outputs": [],
   "source": [
    "df.drop(axis=1, columns=[\"city\", \"state\"], inplace=True)"
   ]
  },
  {
   "cell_type": "code",
   "execution_count": null,
   "metadata": {
    "colab": {
     "base_uri": "https://localhost:8080/",
     "height": 206
    },
    "id": "wkiS0__e97i0",
    "outputId": "9e0969b7-0b90-4499-9eb0-25c1c2700878"
   },
   "outputs": [],
   "source": [
    "df.head()"
   ]
  },
  {
   "cell_type": "code",
   "execution_count": null,
   "metadata": {
    "colab": {
     "base_uri": "https://localhost:8080/"
    },
    "id": "TohzmWfPAqYF",
    "outputId": "fbf29d81-b77d-45b7-a451-734d51a204b7"
   },
   "outputs": [],
   "source": [
    "df['region'].unique()"
   ]
  },
  {
   "cell_type": "code",
   "execution_count": null,
   "metadata": {
    "colab": {
     "base_uri": "https://localhost:8080/",
     "height": 461
    },
    "id": "11J23x4l-YwG",
    "outputId": "6caee354-8b4e-4573-99e4-c116001c52c2"
   },
   "outputs": [],
   "source": [
    "ohe_cols = ['category', 'gender', 'age_group', 'region']\n",
    "num_features = ['amt', 'is_fraud']\n",
    "enc = OneHotEncoder(sparse_output = False)\n",
    "temp = enc.fit_transform(df[ohe_cols])\n",
    "ohc_df = pd.DataFrame(temp, columns = enc.get_feature_names_out())\n",
    "ohc_df.reset_index(drop=True, inplace=True)\n",
    "ohc_df"
   ]
  },
  {
   "cell_type": "code",
   "execution_count": null,
   "metadata": {
    "colab": {
     "base_uri": "https://localhost:8080/",
     "height": 461
    },
    "id": "kuAf6efv-3KX",
    "outputId": "82d3dd20-bdb8-4c9d-e6ef-2108fac619c2"
   },
   "outputs": [],
   "source": [
    "enc_df = pd.concat([df[num_features].reset_index(), ohc_df], axis=1)\n",
    "enc_df.drop(axis=1, columns=['index', 'region_nan'], inplace=True)\n",
    "enc_df"
   ]
  },
  {
   "cell_type": "code",
   "execution_count": null,
   "metadata": {
    "colab": {
     "base_uri": "https://localhost:8080/",
     "height": 1000
    },
    "id": "4d3Fs5bIM_dX",
    "outputId": "fa47bcfb-68af-4d00-f72d-fada2a3a78d7"
   },
   "outputs": [],
   "source": [
    "plt.figure(figsize = (20, 20))\n",
    "sns.heatmap(enc_df.corr(), annot=True, cmap='coolwarm')"
   ]
  },
  {
   "cell_type": "code",
   "execution_count": null,
   "metadata": {
    "colab": {
     "base_uri": "https://localhost:8080/"
    },
    "id": "J_JNWU_VBzmd",
    "outputId": "277d3d46-3983-42d4-a22f-fb58265235a1"
   },
   "outputs": [],
   "source": [
    "# Calculate the correlation matrix\n",
    "corr_matrix = enc_df.corr()\n",
    "\n",
    "# Convert the correlation matrix to a list of tuples\n",
    "corr_list = corr_matrix.unstack().sort_values(ascending=False).drop_duplicates()\n",
    "\n",
    "# Remove the diagonal elements (correlation of a variable with itself)\n",
    "corr_list = corr_list[corr_list != 1]\n",
    "\n",
    "print(corr_list)"
   ]
  },
  {
   "cell_type": "code",
   "execution_count": null,
   "metadata": {
    "id": "e4FqrVO8CGd1"
   },
   "outputs": [],
   "source": [
    "# enc_df.to_csv('enc_df.csv', encoding='utf-8', index=False)"
   ]
  },
  {
   "cell_type": "markdown",
   "metadata": {
    "id": "nX0b3KtnCJYB"
   },
   "source": [
    "Logistic Regression"
   ]
  },
  {
   "cell_type": "code",
   "execution_count": null,
   "metadata": {
    "id": "AYoi0dIGFKAr"
   },
   "outputs": [],
   "source": [
    "X_train = enc_df.drop(columns=['is_fraud'], inplace=False)\n",
    "y_train = enc_df['is_fraud']"
   ]
  },
  {
   "cell_type": "code",
   "execution_count": null,
   "metadata": {
    "id": "pWJA83FYC6k8"
   },
   "outputs": [],
   "source": [
    "# scaler = StandardScaler()"
   ]
  },
  {
   "cell_type": "code",
   "execution_count": null,
   "metadata": {
    "id": "o-taxJDHDKyL"
   },
   "outputs": [],
   "source": [
    "# X_train = scaler.fit_transform(X_train)"
   ]
  },
  {
   "cell_type": "code",
   "execution_count": null,
   "metadata": {
    "colab": {
     "base_uri": "https://localhost:8080/",
     "height": 461
    },
    "id": "6w3DW9HEDTzc",
    "outputId": "93130920-a307-49d1-a039-52a88181b0ca"
   },
   "outputs": [],
   "source": [
    "X_train"
   ]
  },
  {
   "cell_type": "code",
   "execution_count": null,
   "metadata": {
    "id": "y7XpmpamCLdB"
   },
   "outputs": [],
   "source": []
  },
  {
   "cell_type": "code",
   "execution_count": null,
   "metadata": {
    "colab": {
     "base_uri": "https://localhost:8080/",
     "height": 254
    },
    "id": "LbNEo60-ClSr",
    "outputId": "da387e1f-2bfe-43b7-8705-acf8a4b42632"
   },
   "outputs": [],
   "source": [
    "# log_reg = LogisticRegression(penalty=\"l2\", fit_intercept=False, random_state=42)\n",
    "# log_reg.fit(X_train, y_train)"
   ]
  },
  {
   "cell_type": "code",
   "execution_count": null,
   "metadata": {
    "id": "BIymtG8s7CWX"
   },
   "outputs": [],
   "source": [
    "# joblib.dump(log_reg, \"log_reg.pkl\")"
   ]
  },
  {
   "cell_type": "code",
   "execution_count": null,
   "metadata": {
    "id": "HlyBZCpn7Jw2"
   },
   "outputs": [],
   "source": [
    "log_reg = joblib.load(\"pkls/log_reg.pkl\")"
   ]
  },
  {
   "cell_type": "code",
   "execution_count": null,
   "metadata": {
    "id": "Xn1nF9RVEW07"
   },
   "outputs": [],
   "source": [
    "test_df = pd.read_csv(\"data/fraudTest.csv\")"
   ]
  },
  {
   "cell_type": "code",
   "execution_count": null,
   "metadata": {
    "colab": {
     "base_uri": "https://localhost:8080/"
    },
    "id": "pGEXT01BJ7Uq",
    "outputId": "5095b8fc-f4bf-4002-c2d7-a1b200340951"
   },
   "outputs": [],
   "source": [
    "test_df.columns"
   ]
  },
  {
   "cell_type": "code",
   "execution_count": null,
   "metadata": {
    "id": "oFJ9Rb8xKAwu"
   },
   "outputs": [],
   "source": [
    "test_df.drop(axis=1, columns=[\"Unnamed: 0\", \"cc_num\", \"merchant\", \"first\", \"last\", \"street\", \"city\", \"zip\", \"lat\", \"long\", \"city_pop\", \"job\", \"trans_num\", \"unix_time\", \"merch_lat\", \"merch_long\"], inplace=True)"
   ]
  },
  {
   "cell_type": "code",
   "execution_count": null,
   "metadata": {
    "colab": {
     "base_uri": "https://localhost:8080/",
     "height": 206
    },
    "id": "CcFCvWiwKF42",
    "outputId": "f1273537-744c-4cbd-c85e-1ec4289b091c"
   },
   "outputs": [],
   "source": [
    "test_df.head()"
   ]
  },
  {
   "cell_type": "code",
   "execution_count": null,
   "metadata": {
    "id": "cfveVDPaKZxB"
   },
   "outputs": [],
   "source": [
    "test_df[\"region\"] = test_df.state.map(state_to_region)"
   ]
  },
  {
   "cell_type": "code",
   "execution_count": null,
   "metadata": {
    "id": "Ab6atbTsKgDK"
   },
   "outputs": [],
   "source": [
    "test_df[\"trans_year\"] = pd.Series(pd.to_datetime(test_df.trans_date_trans_time)).dt.year\n",
    "test_df[\"dob\"] = pd.Series(pd.to_datetime(test_df.dob)).dt.year\n",
    "\n",
    "age = pd.Series(test_df.trans_year - test_df.dob)\n",
    "test_df[\"age\"] = age\n",
    "\n",
    "bins = [10, 18, 35, 60, 100]\n",
    "labels = [\"14-18\", \"18-35\", \"35-60\", \"60+\"]\n",
    "test_df[\"age_group\"] = pd.cut(test_df['age'], bins=bins, labels=labels, right=True)"
   ]
  },
  {
   "cell_type": "code",
   "execution_count": null,
   "metadata": {
    "colab": {
     "base_uri": "https://localhost:8080/",
     "height": 424
    },
    "id": "gSC2phtXKm_M",
    "outputId": "994d85f5-085b-4f99-d747-876d3e31f602"
   },
   "outputs": [],
   "source": [
    "test_df"
   ]
  },
  {
   "cell_type": "code",
   "execution_count": null,
   "metadata": {
    "id": "r8_yKLPbKtLQ"
   },
   "outputs": [],
   "source": [
    "test_df.drop(axis=1, columns=[\"dob\", \"trans_year\", \"trans_date_trans_time\", \"age\", \"state\"], inplace=True)"
   ]
  },
  {
   "cell_type": "code",
   "execution_count": null,
   "metadata": {
    "colab": {
     "base_uri": "https://localhost:8080/",
     "height": 424
    },
    "id": "9c7Kp1DjLpYK",
    "outputId": "1990bca1-5791-4a6d-bd85-4c082047c0f0"
   },
   "outputs": [],
   "source": [
    "test_df"
   ]
  },
  {
   "cell_type": "code",
   "execution_count": null,
   "metadata": {
    "colab": {
     "base_uri": "https://localhost:8080/",
     "height": 461
    },
    "id": "BjMlnavoLzd8",
    "outputId": "1491e852-2f4d-4495-99a4-d0d10ba3fe50"
   },
   "outputs": [],
   "source": [
    "ohe_cols = ['category', 'gender', 'age_group', 'region']\n",
    "num_features = ['amt', 'is_fraud']\n",
    "enc_test = OneHotEncoder(sparse_output = False)\n",
    "temp = enc_test.fit_transform(test_df[ohe_cols])\n",
    "ohc_df_test = pd.DataFrame(temp, columns = enc_test.get_feature_names_out())\n",
    "ohc_df_test.reset_index(drop=True, inplace=True)\n",
    "ohc_df_test"
   ]
  },
  {
   "cell_type": "code",
   "execution_count": null,
   "metadata": {
    "colab": {
     "base_uri": "https://localhost:8080/",
     "height": 461
    },
    "id": "3JsWeuQvMKrL",
    "outputId": "fbc17dbf-02c8-40ae-ee20-c084b760286a"
   },
   "outputs": [],
   "source": [
    "enc_df_test = pd.concat([test_df[num_features].reset_index(), ohc_df_test], axis=1)\n",
    "enc_df_test.drop(axis=1, columns=['index', 'region_nan'], inplace=True)\n",
    "enc_df_test"
   ]
  },
  {
   "cell_type": "code",
   "execution_count": null,
   "metadata": {
    "id": "wnMWyJj5AgTC"
   },
   "outputs": [],
   "source": [
    "# enc_df_test.to_csv('enc_df_test.csv', encoding='utf-8', index=False)"
   ]
  },
  {
   "cell_type": "code",
   "execution_count": null,
   "metadata": {
    "id": "IxERs4CcMYub"
   },
   "outputs": [],
   "source": [
    "X_test = enc_df_test.drop(columns=['is_fraud'], inplace=False)\n",
    "y_test = enc_df_test['is_fraud']"
   ]
  },
  {
   "cell_type": "code",
   "execution_count": null,
   "metadata": {
    "colab": {
     "base_uri": "https://localhost:8080/",
     "height": 178
    },
    "id": "QfUv7a4iTffN",
    "outputId": "4df4db8f-5814-4f21-bedf-b550a5ab2a77"
   },
   "outputs": [],
   "source": [
    "y_test.value_counts()"
   ]
  },
  {
   "cell_type": "code",
   "execution_count": null,
   "metadata": {
    "id": "poUXRu6ONpP0"
   },
   "outputs": [],
   "source": [
    "# scaler = StandardScaler()\n",
    "# X_test = scaler.fit_transform(X_test)"
   ]
  },
  {
   "cell_type": "code",
   "execution_count": null,
   "metadata": {
    "colab": {
     "base_uri": "https://localhost:8080/"
    },
    "id": "y45OlYJ2Mhdu",
    "outputId": "4c4625cc-6af9-419f-f4a6-761b45582a4e"
   },
   "outputs": [],
   "source": [
    "y_pred = log_reg.predict(X_test)\n",
    "y_pred"
   ]
  },
  {
   "cell_type": "code",
   "execution_count": null,
   "metadata": {
    "colab": {
     "base_uri": "https://localhost:8080/"
    },
    "id": "wEtP9iM-N8Np",
    "outputId": "690c3f1d-55b4-4072-f99a-92e17b329c41"
   },
   "outputs": [],
   "source": [
    "accuracy = accuracy_score(y_test, y_pred)\n",
    "accuracy"
   ]
  },
  {
   "cell_type": "code",
   "execution_count": null,
   "metadata": {
    "colab": {
     "base_uri": "https://localhost:8080/"
    },
    "id": "oJX3ZBZkPI70",
    "outputId": "6dd1dee9-78d0-4ca3-a3b7-3ba2761c9e84"
   },
   "outputs": [],
   "source": [
    "conf_matrix = confusion_matrix(y_test, y_pred)\n",
    "class_report = classification_report(y_test, y_pred)\n",
    "\n",
    "print(\"Accuracy:\", accuracy)\n",
    "print(\"Confusion Matrix:\\n\", conf_matrix)\n",
    "print(\"Classification Report:\\n\", class_report)"
   ]
  },
  {
   "cell_type": "code",
   "execution_count": null,
   "metadata": {
    "colab": {
     "base_uri": "https://localhost:8080/"
    },
    "id": "DjD4IlqxPX9i",
    "outputId": "4a3a84b8-494d-4d33-abbe-95818894a6e2"
   },
   "outputs": [],
   "source": [
    "from sklearn.metrics import classification_report, roc_curve, roc_auc_score\n",
    "\n",
    "y_pred = log_reg.predict(X_test)\n",
    "\n",
    "print(classification_report(y_pred, y_test))"
   ]
  },
  {
   "cell_type": "code",
   "execution_count": null,
   "metadata": {
    "id": "gXr-2dBdPgz1"
   },
   "outputs": [],
   "source": [
    "y_pred_prob = log_reg.predict_proba(X_test)[:, 1]\n",
    "fpr, tpr, thresholds = roc_curve(y_test, y_pred_prob)\n",
    "roc_auc = roc_auc_score(y_test, y_pred_prob)\n",
    "result_array_log = [{'fpr': fpr, 'tpr': tpr, 'roc_auc': roc_auc, 'model':'Log Reg'}]"
   ]
  },
  {
   "cell_type": "code",
   "execution_count": null,
   "metadata": {
    "colab": {
     "base_uri": "https://localhost:8080/",
     "height": 472
    },
    "id": "c79BDGgFPncU",
    "outputId": "22e4d8f6-1e1a-416c-b2b6-2ff7dfea5550"
   },
   "outputs": [],
   "source": [
    "def show_roc_plot(array):\n",
    "    fig = plt.figure()\n",
    "    for ar in array:\n",
    "        plt.plot(ar['fpr'], ar['tpr'], label=f'{ar[\"model\"]} area = {ar[\"roc_auc\"]:.2f})')\n",
    "    plt.plot([0, 1], [0, 1], linestyle='--')\n",
    "    plt.xlabel('False Positive Rate')\n",
    "    plt.ylabel('True Positive Rate')\n",
    "    plt.title(f'ROC Curve')\n",
    "    plt.legend(loc='right')\n",
    "    plt.show()\n",
    "\n",
    "show_roc_plot(result_array_log)"
   ]
  },
  {
   "cell_type": "code",
   "execution_count": null,
   "metadata": {
    "colab": {
     "base_uri": "https://localhost:8080/",
     "height": 466
    },
    "id": "LJfhIz-KQ7Ii",
    "outputId": "d1adc00a-0141-476e-e7e2-cf6befd6c48d"
   },
   "outputs": [],
   "source": [
    "sns.heatmap(conf_matrix, annot=True, fmt='d', cmap='coolwarm')\n",
    "plt.xlabel('Predicted')\n",
    "plt.ylabel('Actual')"
   ]
  },
  {
   "cell_type": "markdown",
   "metadata": {
    "id": "zwfippg1T7kL"
   },
   "source": []
  },
  {
   "cell_type": "code",
   "execution_count": null,
   "metadata": {
    "colab": {
     "base_uri": "https://localhost:8080/",
     "height": 271
    },
    "id": "p1GPh0cfT1Yd",
    "outputId": "42aac07c-9fc9-4b96-d8d5-25f0bd5882c8"
   },
   "outputs": [],
   "source": [
    "# log_reg2 = LogisticRegression(penalty=\"l2\", fit_intercept=False, random_state=42, class_weight=\"balanced\")\n",
    "# log_reg2.fit(X_train, y_train)"
   ]
  },
  {
   "cell_type": "code",
   "execution_count": null,
   "metadata": {
    "id": "PFICC8p964_I"
   },
   "outputs": [],
   "source": [
    "# joblib.dump(log_reg2, \"log_reg2.pkl\")"
   ]
  },
  {
   "cell_type": "code",
   "execution_count": null,
   "metadata": {
    "id": "YAgmTu9U7iO0"
   },
   "outputs": [],
   "source": [
    "log_reg2 = joblib.load(\"pkls/log_reg2.pkl\")"
   ]
  },
  {
   "cell_type": "code",
   "execution_count": null,
   "metadata": {
    "colab": {
     "base_uri": "https://localhost:8080/"
    },
    "id": "8MGjeDeXVDnU",
    "outputId": "2ea2ef49-4068-4c41-ddf1-c1199958ef05"
   },
   "outputs": [],
   "source": [
    "y_pred2 = log_reg2.predict(X_test)\n",
    "y_pred2"
   ]
  },
  {
   "cell_type": "code",
   "execution_count": null,
   "metadata": {
    "colab": {
     "base_uri": "https://localhost:8080/"
    },
    "id": "NAQTAe7BUwy4",
    "outputId": "7cac7a1d-a5b8-43d8-c4f9-ecf8ec323467"
   },
   "outputs": [],
   "source": [
    "accuracy = accuracy_score(y_test, y_pred2)\n",
    "conf_matrix = confusion_matrix(y_test, y_pred2)\n",
    "class_report = classification_report(y_test, y_pred2)\n",
    "\n",
    "print(\"Accuracy:\", accuracy)\n",
    "print(\"Confusion Matrix:\\n\", conf_matrix)\n",
    "print(\"Classification Report:\\n\", class_report)"
   ]
  },
  {
   "cell_type": "code",
   "execution_count": null,
   "metadata": {
    "id": "C91MCOaWVReq"
   },
   "outputs": [],
   "source": [
    "y_pred_prob = log_reg2.predict_proba(X_test)[:, 1]\n",
    "fpr, tpr, thresholds = roc_curve(y_test, y_pred_prob)\n",
    "roc_auc = roc_auc_score(y_test, y_pred_prob)\n",
    "result_array_log = [{'fpr': fpr, 'tpr': tpr, 'roc_auc': roc_auc, 'model':'Log Reg'}]"
   ]
  },
  {
   "cell_type": "code",
   "execution_count": null,
   "metadata": {
    "colab": {
     "base_uri": "https://localhost:8080/",
     "height": 472
    },
    "id": "Wj1GYIlLVaGf",
    "outputId": "573ff81e-49aa-493f-ba37-03710a8e7340"
   },
   "outputs": [],
   "source": [
    "show_roc_plot(result_array_log)"
   ]
  },
  {
   "cell_type": "code",
   "execution_count": null,
   "metadata": {
    "colab": {
     "base_uri": "https://localhost:8080/",
     "height": 466
    },
    "id": "Fg3iDyitVbz_",
    "outputId": "458be023-329e-4596-b1c7-0c47e386f594"
   },
   "outputs": [],
   "source": [
    "sns.heatmap(conf_matrix, annot=True, fmt='d', cmap='coolwarm')\n",
    "plt.xlabel('Predicted')\n",
    "plt.ylabel('Actual')"
   ]
  },
  {
   "cell_type": "markdown",
   "metadata": {
    "id": "AxxyCi1ZYka1"
   },
   "source": [
    "Although the model is now less biased towards wrongly classifying fraudulent transactions as non-fraudulent, the model has an underwhelming accuracy as demonstrated by the many false negatives and false positives."
   ]
  },
  {
   "cell_type": "markdown",
   "metadata": {
    "id": "kZ7c4nuWYm3T"
   },
   "source": [
    "Random Forest"
   ]
  },
  {
   "cell_type": "code",
   "execution_count": null,
   "metadata": {
    "id": "jypxTPVpV0Iw"
   },
   "outputs": [],
   "source": [
    "from sklearn.ensemble import RandomForestClassifier"
   ]
  },
  {
   "cell_type": "code",
   "execution_count": null,
   "metadata": {
    "id": "t0cxBK9wY8N0"
   },
   "outputs": [],
   "source": [
    "# rf = RandomForestClassifier(class_weight=\"balanced\", random_state=42)\n",
    "# rf.fit(X_train, y_train)"
   ]
  },
  {
   "cell_type": "code",
   "execution_count": null,
   "metadata": {
    "id": "amCzGspfZ5I-"
   },
   "outputs": [],
   "source": [
    "import joblib"
   ]
  },
  {
   "cell_type": "code",
   "execution_count": null,
   "metadata": {
    "id": "fMZg7Gs1Z7wx"
   },
   "outputs": [],
   "source": [
    "\n",
    "# # save\n",
    "# joblib.dump(rf, \"randomForest.pkl\")"
   ]
  },
  {
   "cell_type": "code",
   "execution_count": null,
   "metadata": {
    "id": "gtbWWZZycury"
   },
   "outputs": [],
   "source": [
    "rf = joblib.load(\"pkls/randomForest.pkl\")"
   ]
  },
  {
   "cell_type": "code",
   "execution_count": null,
   "metadata": {
    "colab": {
     "base_uri": "https://localhost:8080/"
    },
    "id": "GEc0hSJaZF6k",
    "outputId": "38b71576-1c3e-4d27-a37f-523a4f2d2eb9"
   },
   "outputs": [],
   "source": [
    "y_pred_random_forest = rf.predict(X_test)\n",
    "y_pred_random_forest"
   ]
  },
  {
   "cell_type": "code",
   "execution_count": null,
   "metadata": {
    "colab": {
     "base_uri": "https://localhost:8080/"
    },
    "id": "xbr551VHZPup",
    "outputId": "f380c777-35a2-494b-9a47-a1117bc4e53d"
   },
   "outputs": [],
   "source": [
    "accuracy = accuracy_score(y_test, y_pred_random_forest)\n",
    "conf_matrix = confusion_matrix(y_test, y_pred_random_forest)\n",
    "class_report = classification_report(y_test, y_pred_random_forest)\n",
    "\n",
    "print(\"Accuracy:\", accuracy)\n",
    "print(\"Confusion Matrix:\\n\", conf_matrix)\n",
    "print(\"Classification Report:\\n\", class_report)"
   ]
  },
  {
   "cell_type": "code",
   "execution_count": null,
   "metadata": {
    "colab": {
     "base_uri": "https://localhost:8080/",
     "height": 466
    },
    "id": "8V23xd3fbydm",
    "outputId": "482d5434-be4b-44fc-d1ca-d97ddc4b3d9a"
   },
   "outputs": [],
   "source": [
    "sns.heatmap(conf_matrix, annot=True, fmt='d', cmap='coolwarm')\n",
    "plt.xlabel('Predicted')\n",
    "plt.ylabel('Actual')"
   ]
  },
  {
   "cell_type": "code",
   "execution_count": null,
   "metadata": {
    "id": "pvn6LxMsaqHE"
   },
   "outputs": [],
   "source": [
    "y_pred_prob = rf.predict_proba(X_test)[:, 1]\n",
    "fpr, tpr, thresholds = roc_curve(y_test, y_pred_prob)\n",
    "roc_auc = roc_auc_score(y_test, y_pred_prob)\n",
    "result_array_random_forest = [{'fpr': fpr, 'tpr': tpr, 'roc_auc': roc_auc, 'model':'Random Forest'}]"
   ]
  },
  {
   "cell_type": "code",
   "execution_count": null,
   "metadata": {
    "id": "N0AUXNtrbi1A"
   },
   "outputs": [],
   "source": [
    "combine_array = result_array_log + result_array_random_forest"
   ]
  },
  {
   "cell_type": "code",
   "execution_count": null,
   "metadata": {
    "colab": {
     "base_uri": "https://localhost:8080/",
     "height": 472
    },
    "id": "bptOmsV3bdzG",
    "outputId": "b1da59ae-7b9e-45c3-f9fb-6c60e6cedc48"
   },
   "outputs": [],
   "source": [
    "show_roc_plot(combine_array)"
   ]
  },
  {
   "cell_type": "markdown",
   "metadata": {
    "id": "aqDJ_XabdFpR"
   },
   "source": [
    "Other classifiers"
   ]
  },
  {
   "cell_type": "code",
   "execution_count": null,
   "metadata": {
    "id": "fVPglsrwcHWc"
   },
   "outputs": [],
   "source": []
  },
  {
   "cell_type": "code",
   "execution_count": null,
   "metadata": {
    "colab": {
     "base_uri": "https://localhost:8080/"
    },
    "id": "U2Jnm25Gdr6n",
    "outputId": "aa74a996-16b5-409a-fa5a-ff78620202a2"
   },
   "outputs": [],
   "source": [
    "logreg_coefs = log_reg2.coef_\n",
    "logreg_coefs[0]"
   ]
  },
  {
   "cell_type": "code",
   "execution_count": null,
   "metadata": {
    "colab": {
     "base_uri": "https://localhost:8080/"
    },
    "id": "OexvzKrmdXU2",
    "outputId": "67a055f9-7078-4b36-c4cc-aa4f2008c938"
   },
   "outputs": [],
   "source": [
    "train_mse = mean_squared_error(y_train, log_reg2.predict(X_train))\n",
    "test_mse = mean_squared_error(y_test, log_reg2.predict(X_test))\n",
    "print(train_mse)\n",
    "print(test_mse)"
   ]
  },
  {
   "cell_type": "code",
   "execution_count": null,
   "metadata": {
    "id": "MLPn_F8J2Cqg"
   },
   "outputs": [],
   "source": [
    "from sklearn.preprocessing import StandardScaler, PolynomialFeatures\n",
    "from sklearn.linear_model import Ridge"
   ]
  },
  {
   "cell_type": "code",
   "execution_count": null,
   "metadata": {
    "colab": {
     "base_uri": "https://localhost:8080/"
    },
    "id": "dA77CF-v2M0x",
    "outputId": "75882503-9c2b-41d7-fed2-3c6bdcbbf82c"
   },
   "outputs": [],
   "source": [
    "pipe = Pipeline([('polyfeatures', PolynomialFeatures(degree = 1, include_bias = False)),\n",
    "                      ('scaler', StandardScaler()),\n",
    "                     ('log_reg', LogisticRegression())])\n",
    "pipe.fit(X_train, y_train)\n",
    "logreg_coefs = pipe.named_steps['log_reg'].coef_\n",
    "logreg_coefs[0]"
   ]
  },
  {
   "cell_type": "code",
   "execution_count": null,
   "metadata": {
    "colab": {
     "base_uri": "https://localhost:8080/",
     "height": 833
    },
    "id": "ZRjkcliByYIU",
    "outputId": "cc43b795-028f-41fc-de46-604a9204d135"
   },
   "outputs": [],
   "source": [
    "feature_names = pipe.named_steps['polyfeatures'].get_feature_names_out()\n",
    "reg_df = pd.DataFrame({'feature': feature_names, 'coef': logreg_coefs[0]})\n",
    "reg_df.sort_values('coef', key=abs, ascending=False)"
   ]
  },
  {
   "cell_type": "code",
   "execution_count": null,
   "metadata": {
    "id": "DiKjWnHh24uN"
   },
   "outputs": [],
   "source": []
  },
  {
   "cell_type": "code",
   "execution_count": null,
   "metadata": {
    "id": "3NNwxpacd6wK"
   },
   "outputs": [],
   "source": [
    "\n"
   ]
  },
  {
   "cell_type": "code",
   "execution_count": null,
   "metadata": {
    "id": "pnptQWNZ0jRl"
   },
   "outputs": [],
   "source": []
  },
  {
   "cell_type": "code",
   "execution_count": null,
   "metadata": {
    "id": "UupqYc3j0Kw-"
   },
   "outputs": [],
   "source": []
  },
  {
   "cell_type": "code",
   "execution_count": null,
   "metadata": {
    "id": "I3dmkTk6-eyg"
   },
   "outputs": [],
   "source": []
  }
 ],
 "metadata": {
  "colab": {
   "provenance": []
  },
  "kernelspec": {
   "display_name": "venv",
   "language": "python",
   "name": "venv"
  },
  "language_info": {
   "codemirror_mode": {
    "name": "ipython",
    "version": 3
   },
   "file_extension": ".py",
   "mimetype": "text/x-python",
   "name": "python",
   "nbconvert_exporter": "python",
   "pygments_lexer": "ipython3",
   "version": "3.12.2"
  }
 },
 "nbformat": 4,
 "nbformat_minor": 0
}
